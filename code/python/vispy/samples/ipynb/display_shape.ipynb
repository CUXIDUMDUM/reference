{
 "metadata": {
  "name": "",
  "signature": "sha256:b48aa6253c1acca2536eafa8ee7779a21d80867ee71627c50a0dab733b2aa872"
 },
 "nbformat": 3,
 "nbformat_minor": 0,
 "worksheets": [
  {
   "cells": [
    {
     "cell_type": "code",
     "collapsed": false,
     "input": [
      "from vispy import gloo\n",
      "from vispy import app, use\n",
      "import numpy as np"
     ],
     "language": "python",
     "metadata": {},
     "outputs": []
    },
    {
     "cell_type": "code",
     "collapsed": false,
     "input": [
      "use('ipynb_static')"
     ],
     "language": "python",
     "metadata": {},
     "outputs": []
    },
    {
     "cell_type": "code",
     "collapsed": false,
     "input": [
      "# Create vertices\n",
      "vPosition = np.array([[-0.8, -0.8, 0.0], [+0.7, -0.7, 0.0],\n",
      "                      [-0.7, +0.7, 0.0], [+0.8, +0.8, 0.0, ]], np.float32)\n",
      "\n",
      "\n",
      "VERT_SHADER = \"\"\" // simple vertex shader\n",
      "attribute vec3 a_position;\n",
      "void main (void) {\n",
      "    gl_Position = vec4(a_position, 1.0);\n",
      "}\n",
      "\"\"\"\n",
      "\n",
      "FRAG_SHADER = \"\"\" // simple fragment shader\n",
      "uniform vec4 u_color;\n",
      "void main()\n",
      "{\n",
      "    gl_FragColor = u_color;\n",
      "}\n",
      "\"\"\""
     ],
     "language": "python",
     "metadata": {},
     "outputs": []
    },
    {
     "cell_type": "code",
     "collapsed": false,
     "input": [
      "class Canvas(app.Canvas):\n",
      "\n",
      "    def __init__(self, *args, **kwargs):\n",
      "        app.Canvas.__init__(self, *args, **kwargs)\n",
      "\n",
      "        # Create program\n",
      "        self._program = gloo.Program(VERT_SHADER, FRAG_SHADER)\n",
      "\n",
      "        # Set uniform and attribute\n",
      "        self._program['u_color'] = 0.2, 1.0, 0.4, 1\n",
      "        self._program['a_position'] = gloo.VertexBuffer(vPosition)\n",
      "\n",
      "    def on_initialize(self, event):\n",
      "        gloo.set_clear_color('white')\n",
      "\n",
      "    def on_resize(self, event):\n",
      "        width, height = event.size\n",
      "        gloo.set_viewport(0, 0, width, height)\n",
      "\n",
      "    def on_draw(self, event):\n",
      "        gloo.clear()\n",
      "        self._program.draw('triangle_strip')"
     ],
     "language": "python",
     "metadata": {},
     "outputs": []
    },
    {
     "cell_type": "code",
     "collapsed": false,
     "input": [
      "c = Canvas(size=(500,500))"
     ],
     "language": "python",
     "metadata": {},
     "outputs": []
    },
    {
     "cell_type": "code",
     "collapsed": false,
     "input": [
      "c.show()"
     ],
     "language": "python",
     "metadata": {},
     "outputs": []
    }
   ],
   "metadata": {}
  }
 ]
}