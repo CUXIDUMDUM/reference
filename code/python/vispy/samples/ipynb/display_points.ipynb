{
 "metadata": {
  "name": "",
  "signature": "sha256:059d3c040693141e0b6069792e415d648bb28645da2b4afbcd3b02dfc9a12473"
 },
 "nbformat": 3,
 "nbformat_minor": 0,
 "worksheets": [
  {
   "cells": [
    {
     "cell_type": "code",
     "collapsed": false,
     "input": [
      "from vispy import gloo\n",
      "from vispy import app, use\n",
      "import numpy as np"
     ],
     "language": "python",
     "metadata": {},
     "outputs": []
    },
    {
     "cell_type": "code",
     "collapsed": false,
     "input": [
      "use('ipynb_static')"
     ],
     "language": "python",
     "metadata": {},
     "outputs": []
    },
    {
     "cell_type": "code",
     "collapsed": false,
     "input": [
      "# Create vetices\n",
      "n = 10000\n",
      "v_position = 0.25 * np.random.randn(n, 2).astype(np.float32)\n",
      "v_color = np.random.uniform(0, 1, (n, 3)).astype(np.float32)\n",
      "v_size = np.random.uniform(2, 12, (n, 1)).astype(np.float32)\n",
      "\n",
      "VERT_SHADER = \"\"\"\n",
      "attribute vec3  a_position;\n",
      "attribute vec3  a_color;\n",
      "attribute float a_size;\n",
      "\n",
      "varying vec4 v_fg_color;\n",
      "varying vec4 v_bg_color;\n",
      "varying float v_radius;\n",
      "varying float v_linewidth;\n",
      "varying float v_antialias;\n",
      "\n",
      "void main (void) {\n",
      "    v_radius = a_size;\n",
      "    v_linewidth = 1.0;\n",
      "    v_antialias = 1.0;\n",
      "    v_fg_color  = vec4(0.0,0.0,0.0,0.5);\n",
      "    v_bg_color  = vec4(a_color,    1.0);\n",
      "\n",
      "    gl_Position = vec4(a_position, 1.0);\n",
      "    gl_PointSize = 2.0*(v_radius + v_linewidth + 1.5*v_antialias);\n",
      "}\n",
      "\"\"\"\n",
      "\n",
      "FRAG_SHADER = \"\"\"\n",
      "#version 120\n",
      "\n",
      "varying vec4 v_fg_color;\n",
      "varying vec4 v_bg_color;\n",
      "varying float v_radius;\n",
      "varying float v_linewidth;\n",
      "varying float v_antialias;\n",
      "void main()\n",
      "{\n",
      "    float size = 2.0*(v_radius + v_linewidth + 1.5*v_antialias);\n",
      "    float t = v_linewidth/2.0-v_antialias;\n",
      "    float r = length((gl_PointCoord.xy - vec2(0.5,0.5))*size);\n",
      "    float d = abs(r - v_radius) - t;\n",
      "    if( d < 0.0 )\n",
      "        gl_FragColor = v_fg_color;\n",
      "    else\n",
      "    {\n",
      "        float alpha = d/v_antialias;\n",
      "        alpha = exp(-alpha*alpha);\n",
      "        if (r > v_radius)\n",
      "            gl_FragColor = vec4(v_fg_color.rgb, alpha*v_fg_color.a);\n",
      "        else\n",
      "            gl_FragColor = mix(v_bg_color, v_fg_color, alpha);\n",
      "    }\n",
      "}\n",
      "\"\"\""
     ],
     "language": "python",
     "metadata": {},
     "outputs": []
    },
    {
     "cell_type": "code",
     "collapsed": false,
     "input": [
      "class Points(app.Canvas):\n",
      "\n",
      "    def __init__(self, *args, **kwargs):\n",
      "        app.Canvas.__init__(self, *args, **kwargs)\n",
      "    \n",
      "    def on_initialize(self, event):\n",
      "        self.program = gloo.Program(VERT_SHADER, FRAG_SHADER)\n",
      "        # Set uniform and attribute\n",
      "        self.program['a_color'] = gloo.VertexBuffer(v_color)\n",
      "        self.program['a_position'] = gloo.VertexBuffer(v_position)\n",
      "        self.program['a_size'] = gloo.VertexBuffer(v_size)\n",
      "        gloo.set_state(clear_color='white', blend=True,\n",
      "                       blend_func=('src_alpha', 'one_minus_src_alpha'))\n",
      "\n",
      "    def on_resize(self, event):\n",
      "        gloo.set_viewport(0, 0, *event.size)\n",
      "\n",
      "    def on_draw(self, event):\n",
      "        gloo.clear(color=True, depth=True)\n",
      "        self.program.draw('points')\n",
      "        self.update()"
     ],
     "language": "python",
     "metadata": {},
     "outputs": []
    },
    {
     "cell_type": "code",
     "collapsed": false,
     "input": [
      "p = Points()"
     ],
     "language": "python",
     "metadata": {},
     "outputs": []
    },
    {
     "cell_type": "code",
     "collapsed": false,
     "input": [
      "p.show()"
     ],
     "language": "python",
     "metadata": {},
     "outputs": []
    }
   ],
   "metadata": {}
  }
 ]
}